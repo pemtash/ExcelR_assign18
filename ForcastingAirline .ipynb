{
 "cells": [
  {
   "cell_type": "code",
   "execution_count": 1,
   "metadata": {
    "ExecuteTime": {
     "end_time": "2021-04-14T05:29:01.358796Z",
     "start_time": "2021-04-14T05:28:58.771090Z"
    }
   },
   "outputs": [],
   "source": [
    "import numpy as np\n",
    "import pandas as pd\n",
    "from statsmodels.tsa.seasonal import seasonal_decompose\n",
    "import matplotlib.pyplot as plt\n",
    "import seaborn as sns"
   ]
  },
  {
   "cell_type": "code",
   "execution_count": 2,
   "metadata": {
    "ExecuteTime": {
     "end_time": "2021-04-14T05:29:32.510218Z",
     "start_time": "2021-04-14T05:29:32.432906Z"
    }
   },
   "outputs": [],
   "source": [
    "airline = pd.read_excel(\"AirlinesData.xlsx\")"
   ]
  },
  {
   "cell_type": "code",
   "execution_count": 3,
   "metadata": {
    "ExecuteTime": {
     "end_time": "2021-04-14T05:29:36.542433Z",
     "start_time": "2021-04-14T05:29:36.519448Z"
    }
   },
   "outputs": [
    {
     "data": {
      "text/html": [
       "<div>\n",
       "<style scoped>\n",
       "    .dataframe tbody tr th:only-of-type {\n",
       "        vertical-align: middle;\n",
       "    }\n",
       "\n",
       "    .dataframe tbody tr th {\n",
       "        vertical-align: top;\n",
       "    }\n",
       "\n",
       "    .dataframe thead th {\n",
       "        text-align: right;\n",
       "    }\n",
       "</style>\n",
       "<table border=\"1\" class=\"dataframe\">\n",
       "  <thead>\n",
       "    <tr style=\"text-align: right;\">\n",
       "      <th></th>\n",
       "      <th>Month</th>\n",
       "      <th>Passengers</th>\n",
       "    </tr>\n",
       "  </thead>\n",
       "  <tbody>\n",
       "    <tr>\n",
       "      <th>0</th>\n",
       "      <td>1995-01-01</td>\n",
       "      <td>112</td>\n",
       "    </tr>\n",
       "    <tr>\n",
       "      <th>1</th>\n",
       "      <td>1995-02-01</td>\n",
       "      <td>118</td>\n",
       "    </tr>\n",
       "    <tr>\n",
       "      <th>2</th>\n",
       "      <td>1995-03-01</td>\n",
       "      <td>132</td>\n",
       "    </tr>\n",
       "    <tr>\n",
       "      <th>3</th>\n",
       "      <td>1995-04-01</td>\n",
       "      <td>129</td>\n",
       "    </tr>\n",
       "    <tr>\n",
       "      <th>4</th>\n",
       "      <td>1995-05-01</td>\n",
       "      <td>121</td>\n",
       "    </tr>\n",
       "  </tbody>\n",
       "</table>\n",
       "</div>"
      ],
      "text/plain": [
       "       Month  Passengers\n",
       "0 1995-01-01         112\n",
       "1 1995-02-01         118\n",
       "2 1995-03-01         132\n",
       "3 1995-04-01         129\n",
       "4 1995-05-01         121"
      ]
     },
     "execution_count": 3,
     "metadata": {},
     "output_type": "execute_result"
    }
   ],
   "source": [
    "airline.head()"
   ]
  },
  {
   "cell_type": "code",
   "execution_count": 4,
   "metadata": {
    "ExecuteTime": {
     "end_time": "2021-04-14T05:29:39.963437Z",
     "start_time": "2021-04-14T05:29:39.948446Z"
    }
   },
   "outputs": [
    {
     "data": {
      "text/plain": [
       "(96, 2)"
      ]
     },
     "execution_count": 4,
     "metadata": {},
     "output_type": "execute_result"
    }
   ],
   "source": [
    "airline.shape"
   ]
  },
  {
   "cell_type": "code",
   "execution_count": 5,
   "metadata": {
    "ExecuteTime": {
     "end_time": "2021-04-14T05:29:43.355227Z",
     "start_time": "2021-04-14T05:29:43.317247Z"
    }
   },
   "outputs": [
    {
     "data": {
      "text/html": [
       "<div>\n",
       "<style scoped>\n",
       "    .dataframe tbody tr th:only-of-type {\n",
       "        vertical-align: middle;\n",
       "    }\n",
       "\n",
       "    .dataframe tbody tr th {\n",
       "        vertical-align: top;\n",
       "    }\n",
       "\n",
       "    .dataframe thead th {\n",
       "        text-align: right;\n",
       "    }\n",
       "</style>\n",
       "<table border=\"1\" class=\"dataframe\">\n",
       "  <thead>\n",
       "    <tr style=\"text-align: right;\">\n",
       "      <th></th>\n",
       "      <th>Passengers</th>\n",
       "    </tr>\n",
       "  </thead>\n",
       "  <tbody>\n",
       "    <tr>\n",
       "      <th>count</th>\n",
       "      <td>96.000000</td>\n",
       "    </tr>\n",
       "    <tr>\n",
       "      <th>mean</th>\n",
       "      <td>213.708333</td>\n",
       "    </tr>\n",
       "    <tr>\n",
       "      <th>std</th>\n",
       "      <td>71.918216</td>\n",
       "    </tr>\n",
       "    <tr>\n",
       "      <th>min</th>\n",
       "      <td>104.000000</td>\n",
       "    </tr>\n",
       "    <tr>\n",
       "      <th>25%</th>\n",
       "      <td>156.000000</td>\n",
       "    </tr>\n",
       "    <tr>\n",
       "      <th>50%</th>\n",
       "      <td>200.000000</td>\n",
       "    </tr>\n",
       "    <tr>\n",
       "      <th>75%</th>\n",
       "      <td>264.750000</td>\n",
       "    </tr>\n",
       "    <tr>\n",
       "      <th>max</th>\n",
       "      <td>413.000000</td>\n",
       "    </tr>\n",
       "  </tbody>\n",
       "</table>\n",
       "</div>"
      ],
      "text/plain": [
       "       Passengers\n",
       "count   96.000000\n",
       "mean   213.708333\n",
       "std     71.918216\n",
       "min    104.000000\n",
       "25%    156.000000\n",
       "50%    200.000000\n",
       "75%    264.750000\n",
       "max    413.000000"
      ]
     },
     "execution_count": 5,
     "metadata": {},
     "output_type": "execute_result"
    }
   ],
   "source": [
    "airline.describe()"
   ]
  },
  {
   "cell_type": "code",
   "execution_count": 6,
   "metadata": {
    "ExecuteTime": {
     "end_time": "2021-04-14T05:29:47.810496Z",
     "start_time": "2021-04-14T05:29:47.788508Z"
    }
   },
   "outputs": [
    {
     "data": {
      "text/plain": [
       "array(['1995-01-01T00:00:00.000000000', '1995-02-01T00:00:00.000000000',\n",
       "       '1995-03-01T00:00:00.000000000', '1995-04-01T00:00:00.000000000',\n",
       "       '1995-05-01T00:00:00.000000000', '1995-06-01T00:00:00.000000000',\n",
       "       '1995-07-01T00:00:00.000000000', '1995-08-01T00:00:00.000000000',\n",
       "       '1995-09-01T00:00:00.000000000', '1995-10-01T00:00:00.000000000',\n",
       "       '1995-11-01T00:00:00.000000000', '1995-12-01T00:00:00.000000000',\n",
       "       '1996-01-01T00:00:00.000000000', '1996-02-01T00:00:00.000000000',\n",
       "       '1996-03-01T00:00:00.000000000', '1996-04-01T00:00:00.000000000',\n",
       "       '1996-05-01T00:00:00.000000000', '1996-06-01T00:00:00.000000000',\n",
       "       '1996-07-01T00:00:00.000000000', '1996-08-01T00:00:00.000000000',\n",
       "       '1996-09-01T00:00:00.000000000', '1996-10-01T00:00:00.000000000',\n",
       "       '1996-11-01T00:00:00.000000000', '1996-12-01T00:00:00.000000000',\n",
       "       '1997-01-01T00:00:00.000000000', '1997-02-01T00:00:00.000000000',\n",
       "       '1997-03-01T00:00:00.000000000', '1997-04-01T00:00:00.000000000',\n",
       "       '1997-05-01T00:00:00.000000000', '1997-06-01T00:00:00.000000000',\n",
       "       '1997-07-01T00:00:00.000000000', '1997-08-01T00:00:00.000000000',\n",
       "       '1997-09-01T00:00:00.000000000', '1997-10-01T00:00:00.000000000',\n",
       "       '1997-11-01T00:00:00.000000000', '1997-12-01T00:00:00.000000000',\n",
       "       '1998-01-01T00:00:00.000000000', '1998-02-01T00:00:00.000000000',\n",
       "       '1998-03-01T00:00:00.000000000', '1998-04-01T00:00:00.000000000',\n",
       "       '1998-05-01T00:00:00.000000000', '1998-06-01T00:00:00.000000000',\n",
       "       '1998-07-01T00:00:00.000000000', '1998-08-01T00:00:00.000000000',\n",
       "       '1998-09-01T00:00:00.000000000', '1998-10-01T00:00:00.000000000',\n",
       "       '1998-11-01T00:00:00.000000000', '1998-12-01T00:00:00.000000000',\n",
       "       '1999-01-01T00:00:00.000000000', '1999-02-01T00:00:00.000000000',\n",
       "       '1999-03-01T00:00:00.000000000', '1999-04-01T00:00:00.000000000',\n",
       "       '1999-05-01T00:00:00.000000000', '1999-06-01T00:00:00.000000000',\n",
       "       '1999-07-01T00:00:00.000000000', '1999-08-01T00:00:00.000000000',\n",
       "       '1999-09-01T00:00:00.000000000', '1999-10-01T00:00:00.000000000',\n",
       "       '1999-11-01T00:00:00.000000000', '1999-12-01T00:00:00.000000000',\n",
       "       '2000-01-01T00:00:00.000000000', '2000-02-01T00:00:00.000000000',\n",
       "       '2000-03-01T00:00:00.000000000', '2000-04-01T00:00:00.000000000',\n",
       "       '2000-05-01T00:00:00.000000000', '2000-06-01T00:00:00.000000000',\n",
       "       '2000-07-01T00:00:00.000000000', '2000-08-01T00:00:00.000000000',\n",
       "       '2000-09-01T00:00:00.000000000', '2000-10-01T00:00:00.000000000',\n",
       "       '2000-11-01T00:00:00.000000000', '2000-12-01T00:00:00.000000000',\n",
       "       '2001-01-01T00:00:00.000000000', '2001-02-01T00:00:00.000000000',\n",
       "       '2001-03-01T00:00:00.000000000', '2001-04-01T00:00:00.000000000',\n",
       "       '2001-05-01T00:00:00.000000000', '2001-06-01T00:00:00.000000000',\n",
       "       '2001-07-01T00:00:00.000000000', '2001-08-01T00:00:00.000000000',\n",
       "       '2001-09-01T00:00:00.000000000', '2001-10-01T00:00:00.000000000',\n",
       "       '2001-11-01T00:00:00.000000000', '2001-12-01T00:00:00.000000000',\n",
       "       '2002-01-01T00:00:00.000000000', '2002-02-01T00:00:00.000000000',\n",
       "       '2002-03-01T00:00:00.000000000', '2002-04-01T00:00:00.000000000',\n",
       "       '2002-05-01T00:00:00.000000000', '2002-06-01T00:00:00.000000000',\n",
       "       '2002-07-01T00:00:00.000000000', '2002-08-01T00:00:00.000000000',\n",
       "       '2002-09-01T00:00:00.000000000', '2002-10-01T00:00:00.000000000',\n",
       "       '2002-11-01T00:00:00.000000000', '2002-12-01T00:00:00.000000000'],\n",
       "      dtype='datetime64[ns]')"
      ]
     },
     "execution_count": 6,
     "metadata": {},
     "output_type": "execute_result"
    }
   ],
   "source": [
    "airline[\"Month\"].unique()"
   ]
  },
  {
   "cell_type": "code",
   "execution_count": 7,
   "metadata": {
    "ExecuteTime": {
     "end_time": "2021-04-14T05:30:04.569953Z",
     "start_time": "2021-04-14T05:30:04.324448Z"
    }
   },
   "outputs": [
    {
     "data": {
      "text/plain": [
       "<matplotlib.axes._subplots.AxesSubplot at 0x20447eeeac0>"
      ]
     },
     "execution_count": 7,
     "metadata": {},
     "output_type": "execute_result"
    },
    {
     "data": {
      "image/png": "[encoded data removed]",
      "text/plain": [
       "<Figure size 432x288 with 1 Axes>"
      ]
     },
     "metadata": {
      "needs_background": "light"
     },
     "output_type": "display_data"
    }
   ],
   "source": [
    "airline.Passengers.plot()"
   ]
  },
  {
   "cell_type": "code",
   "execution_count": 8,
   "metadata": {
    "ExecuteTime": {
     "end_time": "2021-04-14T05:30:15.714037Z",
     "start_time": "2021-04-14T05:30:15.484179Z"
    }
   },
   "outputs": [
    {
     "data": {
      "text/plain": [
       "array([[<matplotlib.axes._subplots.AxesSubplot object at 0x0000020447FA7AF0>]],\n",
       "      dtype=object)"
      ]
     },
     "execution_count": 8,
     "metadata": {},
     "output_type": "execute_result"
    },
    {
     "data": {
      "image/png": "[encoded data removed]",
      "text/plain": [
       "<Figure size 432x288 with 1 Axes>"
      ]
     },
     "metadata": {
      "needs_background": "light"
     },
     "output_type": "display_data"
    }
   ],
   "source": [
    "airline.hist()"
   ]
  },
  {
   "cell_type": "code",
   "execution_count": 9,
   "metadata": {
    "ExecuteTime": {
     "end_time": "2021-04-14T05:30:27.744289Z",
     "start_time": "2021-04-14T05:30:27.723302Z"
    }
   },
   "outputs": [],
   "source": [
    "airline[\"Date\"]=pd.to_datetime(airline.Month,format=\"%b-%y\")\n",
    "airline[\"Months\"]=airline.Date.dt.strftime(\"%b\")\n",
    "airline[\"Year\"]=airline.Date.dt.strftime(\"%Y\")"
   ]
  },
  {
   "cell_type": "code",
   "execution_count": 10,
   "metadata": {
    "ExecuteTime": {
     "end_time": "2021-04-14T05:30:38.023790Z",
     "start_time": "2021-04-14T05:30:34.699935Z"
    }
   },
   "outputs": [
    {
     "data": {
      "text/plain": [
       "<matplotlib.axes._subplots.AxesSubplot at 0x20447e99d30>"
      ]
     },
     "execution_count": 10,
     "metadata": {},
     "output_type": "execute_result"
    },
    {
     "data": {
      "image/png": "[encoded data removed]",
      "text/plain": [
       "<Figure size 864x576 with 2 Axes>"
      ]
     },
     "metadata": {
      "needs_background": "light"
     },
     "output_type": "display_data"
    }
   ],
   "source": [
    "# Heatmap\n",
    "plt.figure(figsize=(12,8))\n",
    "heatmap_y_month = pd.pivot_table(data=airline,values=\"Passengers\",index=\"Year\",columns=\"Month\",aggfunc=\"mean\",fill_value=0)\n",
    "sns.heatmap(heatmap_y_month,annot=True,fmt=\"g\") #fmt is format of the grid values\n"
   ]
  },
  {
   "cell_type": "code",
   "execution_count": 11,
   "metadata": {
    "ExecuteTime": {
     "end_time": "2021-04-14T05:30:58.377963Z",
     "start_time": "2021-04-14T05:30:57.884266Z"
    }
   },
   "outputs": [
    {
     "data": {
      "text/plain": [
       "<matplotlib.axes._subplots.AxesSubplot at 0x204488ad250>"
      ]
     },
     "execution_count": 11,
     "metadata": {},
     "output_type": "execute_result"
    },
    {
     "data": {
      "image/png": "[encoded data removed]",
      "text/plain": [
       "<Figure size 432x288 with 1 Axes>"
      ]
     },
     "metadata": {
      "needs_background": "light"
     },
     "output_type": "display_data"
    }
   ],
   "source": [
    "sns.boxplot(x=\"Months\",y=\"Passengers\",data=airline)\n",
    "sns.boxplot(x=\"Year\",y=\"Passengers\",data=airline)"
   ]
  },
  {
   "cell_type": "code",
   "execution_count": 12,
   "metadata": {
    "ExecuteTime": {
     "end_time": "2021-04-14T05:31:11.758742Z",
     "start_time": "2021-04-14T05:31:11.739755Z"
    }
   },
   "outputs": [],
   "source": [
    "Month_Dummies = pd.DataFrame(pd.get_dummies(airline['Months']))\n",
    "airline1 = pd.concat([airline,Month_Dummies],axis = 1)"
   ]
  },
  {
   "cell_type": "code",
   "execution_count": 13,
   "metadata": {
    "ExecuteTime": {
     "end_time": "2021-04-14T05:31:14.236606Z",
     "start_time": "2021-04-14T05:31:14.227612Z"
    }
   },
   "outputs": [],
   "source": [
    "airline1[\"t\"] = np.arange(1,97)\n",
    "airline1[\"t_squared\"] = airline1[\"t\"]*airline1[\"t\"]\n",
    "airline1[\"Log_Passengers\"] = np.log(airline1[\"Passengers\"])"
   ]
  },
  {
   "cell_type": "code",
   "execution_count": 14,
   "metadata": {
    "ExecuteTime": {
     "end_time": "2021-04-14T05:31:20.231177Z",
     "start_time": "2021-04-14T05:31:19.698975Z"
    }
   },
   "outputs": [
    {
     "data": {
      "text/plain": [
       "<matplotlib.axes._subplots.AxesSubplot at 0x20448c6ed90>"
      ]
     },
     "execution_count": 14,
     "metadata": {},
     "output_type": "execute_result"
    },
    {
     "data": {
      "image/png": "[encoded data removed]",
      "text/plain": [
       "<Figure size 864x216 with 1 Axes>"
      ]
     },
     "metadata": {
      "needs_background": "light"
     },
     "output_type": "display_data"
    }
   ],
   "source": [
    "plt.figure(figsize=(12,3))\n",
    "sns.lineplot(x=\"Year\",y=\"Passengers\",data=airline)"
   ]
  },
  {
   "cell_type": "code",
   "execution_count": 15,
   "metadata": {
    "ExecuteTime": {
     "end_time": "2021-04-14T05:31:22.622476Z",
     "start_time": "2021-04-14T05:31:22.611485Z"
    }
   },
   "outputs": [],
   "source": [
    "\n",
    "Train = airline1.head(80)\n",
    "Test = airline1.tail(16)\n"
   ]
  },
  {
   "cell_type": "code",
   "execution_count": 16,
   "metadata": {
    "ExecuteTime": {
     "end_time": "2021-04-14T05:31:25.447335Z",
     "start_time": "2021-04-14T05:31:25.250456Z"
    }
   },
   "outputs": [
    {
     "data": {
      "text/plain": [
       "<matplotlib.axes._subplots.AxesSubplot at 0x20448cec040>"
      ]
     },
     "execution_count": 16,
     "metadata": {},
     "output_type": "execute_result"
    },
    {
     "data": {
      "image/png": "[encoded data removed]",
      "text/plain": [
       "<Figure size 432x288 with 1 Axes>"
      ]
     },
     "metadata": {
      "needs_background": "light"
     },
     "output_type": "display_data"
    }
   ],
   "source": [
    "airline1.Passengers.plot()"
   ]
  },
  {
   "cell_type": "code",
   "execution_count": 17,
   "metadata": {
    "ExecuteTime": {
     "end_time": "2021-04-14T05:31:28.235239Z",
     "start_time": "2021-04-14T05:31:27.955513Z"
    }
   },
   "outputs": [
    {
     "data": {
      "text/plain": [
       "47.542624067726734"
      ]
     },
     "execution_count": 17,
     "metadata": {},
     "output_type": "execute_result"
    }
   ],
   "source": [
    "# Linear Model\n",
    "import statsmodels.formula.api as smf \n",
    "linear_model = smf.ols('Passengers~t',data=Train).fit()\n",
    "pred_linear =  pd.Series(linear_model.predict(pd.DataFrame(Test['t'])))\n",
    "rmse_linear = np.sqrt(np.mean((np.array(Test['Passengers'])-np.array(pred_linear))**2))\n",
    "rmse_linear\n"
   ]
  },
  {
   "cell_type": "code",
   "execution_count": 18,
   "metadata": {
    "ExecuteTime": {
     "end_time": "2021-04-14T05:31:30.547040Z",
     "start_time": "2021-04-14T05:31:30.508065Z"
    }
   },
   "outputs": [
    {
     "data": {
      "text/plain": [
       "43.793739393343294"
      ]
     },
     "execution_count": 18,
     "metadata": {},
     "output_type": "execute_result"
    }
   ],
   "source": [
    "\n",
    "# Exponential Model\n",
    "Exp = smf.ols('Log_Passengers~t',data=Train).fit()\n",
    "pred_Exp = pd.Series(Exp.predict(pd.DataFrame(Test['t'])))\n",
    "rmse_Exp = np.sqrt(np.mean((np.array(Test['Passengers'])-np.array(np.exp(pred_Exp)))**2))\n",
    "rmse_Exp\n"
   ]
  },
  {
   "cell_type": "code",
   "execution_count": 19,
   "metadata": {
    "ExecuteTime": {
     "end_time": "2021-04-14T05:31:33.345078Z",
     "start_time": "2021-04-14T05:31:33.307103Z"
    }
   },
   "outputs": [
    {
     "data": {
      "text/plain": [
       "43.65440369584208"
      ]
     },
     "execution_count": 19,
     "metadata": {},
     "output_type": "execute_result"
    }
   ],
   "source": [
    "\n",
    "# Quadratic Model\n",
    "Quad = smf.ols('Passengers~t+t_squared',data=Train).fit()\n",
    "pred_Quad = pd.Series(Quad.predict(Test[[\"t\",\"t_squared\"]]))\n",
    "rmse_Quad = np.sqrt(np.mean((np.array(Test['Passengers'])-np.array(pred_Quad))**2))\n",
    "rmse_Quad"
   ]
  },
  {
   "cell_type": "code",
   "execution_count": 20,
   "metadata": {
    "ExecuteTime": {
     "end_time": "2021-04-14T05:31:38.988129Z",
     "start_time": "2021-04-14T05:31:38.883194Z"
    }
   },
   "outputs": [
    {
     "data": {
      "text/plain": [
       "129.2664764144332"
      ]
     },
     "execution_count": 20,
     "metadata": {},
     "output_type": "execute_result"
    }
   ],
   "source": [
    "# Additive seasonality\n",
    "add_sea = smf.ols('Passengers~Jan+Feb+Mar+Apr+May+Jun+Jul+Aug+Sep+Oct+Nov',data=Train).fit()\n",
    "pred_add_sea = pd.Series(add_sea.predict(Test[['Jan','Feb','Mar','Apr','May','Jun','Jul','Aug','Sep','Oct','Nov']]))\n",
    "rmse_add_sea = np.sqrt(np.mean((np.array(Test['Passengers'])-np.array(pred_add_sea))**2))\n",
    "rmse_add_sea"
   ]
  },
  {
   "cell_type": "code",
   "execution_count": 21,
   "metadata": {
    "ExecuteTime": {
     "end_time": "2021-04-14T05:31:41.279131Z",
     "start_time": "2021-04-14T05:31:41.154089Z"
    }
   },
   "outputs": [
    {
     "data": {
      "text/plain": [
       "23.910983570107437"
      ]
     },
     "execution_count": 21,
     "metadata": {},
     "output_type": "execute_result"
    }
   ],
   "source": [
    "# Addictive Seasonality Quadratic\n",
    "add_sea_Quad = smf.ols('Passengers~t+t_squared+Jan+Feb+Mar+Apr+May+Jun+Jul+Aug+Sep+Oct+Nov',data=Train).fit()\n",
    "pred_add_sea_quad=pd.Series(add_sea_Quad.predict(Test[['Jan','Feb','Mar','Apr','May','Jun','Jul','Aug','Sep','Oct','Nov','t','t_squared']]))\n",
    "rmse_add_sea_quad = np.sqrt(np.mean((np.array(Test['Passengers'])-np.array(pred_add_sea_quad))**2))\n",
    "rmse_add_sea_quad"
   ]
  },
  {
   "cell_type": "code",
   "execution_count": 22,
   "metadata": {
    "ExecuteTime": {
     "end_time": "2021-04-14T05:31:44.024834Z",
     "start_time": "2021-04-14T05:31:43.906791Z"
    }
   },
   "outputs": [
    {
     "data": {
      "text/plain": [
       "135.32648414621127"
      ]
     },
     "execution_count": 22,
     "metadata": {},
     "output_type": "execute_result"
    }
   ],
   "source": [
    "# Multiplicative Seasonality\n",
    "Mul_sea = smf.ols('Log_Passengers~Jan+Feb+Mar+Apr+May+Jun+Jul+Aug+Sep+Oct+Nov',data = Train).fit()\n",
    "pred_Mult_sea = pd.Series(Mul_sea.predict(Test))\n",
    "rmse_Mult_sea = np.sqrt(np.mean((np.array(Test['Passengers'])-np.array(np.exp(pred_Mult_sea)))**2))\n",
    "rmse_Mult_sea"
   ]
  },
  {
   "cell_type": "code",
   "execution_count": 23,
   "metadata": {
    "ExecuteTime": {
     "end_time": "2021-04-14T05:31:46.004169Z",
     "start_time": "2021-04-14T05:31:45.890241Z"
    }
   },
   "outputs": [
    {
     "data": {
      "text/plain": [
       "9.469000230305895"
      ]
     },
     "execution_count": 23,
     "metadata": {},
     "output_type": "execute_result"
    }
   ],
   "source": [
    "# Multiplicative Additive Seasonality\n",
    "Mul_Add_sea = smf.ols('Log_Passengers~t+Jan+Feb+Mar+Apr+May+Jun+Jul+Aug+Sep+Oct+Nov',data = Train).fit()\n",
    "pred_Mult_add_sea = pd.Series(Mul_Add_sea.predict(Test))\n",
    "rmse_Mult_add_sea = np.sqrt(np.mean((np.array(Test['Passengers'])-np.array(np.exp(pred_Mult_add_sea)))**2))\n",
    "rmse_Mult_add_sea "
   ]
  },
  {
   "cell_type": "markdown",
   "metadata": {},
   "source": [
    "### Testing the Models"
   ]
  },
  {
   "cell_type": "code",
   "execution_count": 24,
   "metadata": {
    "ExecuteTime": {
     "end_time": "2021-04-14T05:31:47.906204Z",
     "start_time": "2021-04-14T05:31:47.891212Z"
    }
   },
   "outputs": [
    {
     "data": {
      "text/html": [
       "<div>\n",
       "<style scoped>\n",
       "    .dataframe tbody tr th:only-of-type {\n",
       "        vertical-align: middle;\n",
       "    }\n",
       "\n",
       "    .dataframe tbody tr th {\n",
       "        vertical-align: top;\n",
       "    }\n",
       "\n",
       "    .dataframe thead th {\n",
       "        text-align: right;\n",
       "    }\n",
       "</style>\n",
       "<table border=\"1\" class=\"dataframe\">\n",
       "  <thead>\n",
       "    <tr style=\"text-align: right;\">\n",
       "      <th></th>\n",
       "      <th>MODEL</th>\n",
       "      <th>RMSE_Values</th>\n",
       "    </tr>\n",
       "  </thead>\n",
       "  <tbody>\n",
       "    <tr>\n",
       "      <th>0</th>\n",
       "      <td>rmse_linear</td>\n",
       "      <td>47.542624</td>\n",
       "    </tr>\n",
       "    <tr>\n",
       "      <th>1</th>\n",
       "      <td>rmse_Exp</td>\n",
       "      <td>43.793739</td>\n",
       "    </tr>\n",
       "    <tr>\n",
       "      <th>2</th>\n",
       "      <td>rmse_Quad</td>\n",
       "      <td>43.654404</td>\n",
       "    </tr>\n",
       "    <tr>\n",
       "      <th>3</th>\n",
       "      <td>rmse_add_sea</td>\n",
       "      <td>129.266476</td>\n",
       "    </tr>\n",
       "    <tr>\n",
       "      <th>4</th>\n",
       "      <td>rmse_add_sea_quad</td>\n",
       "      <td>23.910984</td>\n",
       "    </tr>\n",
       "    <tr>\n",
       "      <th>5</th>\n",
       "      <td>rmse_Mult_sea</td>\n",
       "      <td>135.326484</td>\n",
       "    </tr>\n",
       "    <tr>\n",
       "      <th>6</th>\n",
       "      <td>rmse_Mult_add_sea</td>\n",
       "      <td>9.469000</td>\n",
       "    </tr>\n",
       "  </tbody>\n",
       "</table>\n",
       "</div>"
      ],
      "text/plain": [
       "               MODEL  RMSE_Values\n",
       "0        rmse_linear    47.542624\n",
       "1           rmse_Exp    43.793739\n",
       "2          rmse_Quad    43.654404\n",
       "3       rmse_add_sea   129.266476\n",
       "4  rmse_add_sea_quad    23.910984\n",
       "5      rmse_Mult_sea   135.326484\n",
       "6  rmse_Mult_add_sea     9.469000"
      ]
     },
     "execution_count": 24,
     "metadata": {},
     "output_type": "execute_result"
    }
   ],
   "source": [
    "data = {\"MODEL\":pd.Series([\"rmse_linear\",\"rmse_Exp\",\"rmse_Quad\",\"rmse_add_sea\",\"rmse_add_sea_quad\",\"rmse_Mult_sea\",\"rmse_Mult_add_sea\"]),\"RMSE_Values\":pd.Series([rmse_linear,rmse_Exp,rmse_Quad,rmse_add_sea,rmse_add_sea_quad,rmse_Mult_sea,rmse_Mult_add_sea])}\n",
    "table_rmse=pd.DataFrame(data)\n",
    "table_rmse"
   ]
  },
  {
   "cell_type": "code",
   "execution_count": 28,
   "metadata": {
    "ExecuteTime": {
     "end_time": "2021-04-14T05:53:51.180157Z",
     "start_time": "2021-04-14T05:53:51.158173Z"
    }
   },
   "outputs": [],
   "source": [
    "air_new = pd.read_excel(\"Airlines_new.xlsx\")"
   ]
  },
  {
   "cell_type": "code",
   "execution_count": 29,
   "metadata": {
    "ExecuteTime": {
     "end_time": "2021-04-14T05:53:53.946243Z",
     "start_time": "2021-04-14T05:53:53.923260Z"
    }
   },
   "outputs": [
    {
     "data": {
      "text/html": [
       "<div>\n",
       "<style scoped>\n",
       "    .dataframe tbody tr th:only-of-type {\n",
       "        vertical-align: middle;\n",
       "    }\n",
       "\n",
       "    .dataframe tbody tr th {\n",
       "        vertical-align: top;\n",
       "    }\n",
       "\n",
       "    .dataframe thead th {\n",
       "        text-align: right;\n",
       "    }\n",
       "</style>\n",
       "<table border=\"1\" class=\"dataframe\">\n",
       "  <thead>\n",
       "    <tr style=\"text-align: right;\">\n",
       "      <th></th>\n",
       "      <th>Month</th>\n",
       "      <th>t</th>\n",
       "      <th>t_square</th>\n",
       "    </tr>\n",
       "  </thead>\n",
       "  <tbody>\n",
       "    <tr>\n",
       "      <th>0</th>\n",
       "      <td>2003-01-01</td>\n",
       "      <td>97</td>\n",
       "      <td>9409</td>\n",
       "    </tr>\n",
       "    <tr>\n",
       "      <th>1</th>\n",
       "      <td>2003-01-02</td>\n",
       "      <td>98</td>\n",
       "      <td>9604</td>\n",
       "    </tr>\n",
       "    <tr>\n",
       "      <th>2</th>\n",
       "      <td>2003-01-03</td>\n",
       "      <td>99</td>\n",
       "      <td>9801</td>\n",
       "    </tr>\n",
       "    <tr>\n",
       "      <th>3</th>\n",
       "      <td>2003-01-04</td>\n",
       "      <td>100</td>\n",
       "      <td>10000</td>\n",
       "    </tr>\n",
       "    <tr>\n",
       "      <th>4</th>\n",
       "      <td>2003-01-05</td>\n",
       "      <td>101</td>\n",
       "      <td>10201</td>\n",
       "    </tr>\n",
       "    <tr>\n",
       "      <th>5</th>\n",
       "      <td>2003-01-06</td>\n",
       "      <td>102</td>\n",
       "      <td>10404</td>\n",
       "    </tr>\n",
       "    <tr>\n",
       "      <th>6</th>\n",
       "      <td>2003-01-07</td>\n",
       "      <td>103</td>\n",
       "      <td>10609</td>\n",
       "    </tr>\n",
       "    <tr>\n",
       "      <th>7</th>\n",
       "      <td>2003-01-08</td>\n",
       "      <td>104</td>\n",
       "      <td>10816</td>\n",
       "    </tr>\n",
       "    <tr>\n",
       "      <th>8</th>\n",
       "      <td>2003-01-09</td>\n",
       "      <td>105</td>\n",
       "      <td>11025</td>\n",
       "    </tr>\n",
       "    <tr>\n",
       "      <th>9</th>\n",
       "      <td>2003-01-10</td>\n",
       "      <td>106</td>\n",
       "      <td>11236</td>\n",
       "    </tr>\n",
       "    <tr>\n",
       "      <th>10</th>\n",
       "      <td>2003-01-11</td>\n",
       "      <td>107</td>\n",
       "      <td>11449</td>\n",
       "    </tr>\n",
       "    <tr>\n",
       "      <th>11</th>\n",
       "      <td>2003-01-12</td>\n",
       "      <td>108</td>\n",
       "      <td>11664</td>\n",
       "    </tr>\n",
       "    <tr>\n",
       "      <th>12</th>\n",
       "      <td>2003-01-13</td>\n",
       "      <td>109</td>\n",
       "      <td>11881</td>\n",
       "    </tr>\n",
       "    <tr>\n",
       "      <th>13</th>\n",
       "      <td>2003-01-14</td>\n",
       "      <td>110</td>\n",
       "      <td>12100</td>\n",
       "    </tr>\n",
       "    <tr>\n",
       "      <th>14</th>\n",
       "      <td>2003-01-15</td>\n",
       "      <td>111</td>\n",
       "      <td>12321</td>\n",
       "    </tr>\n",
       "  </tbody>\n",
       "</table>\n",
       "</div>"
      ],
      "text/plain": [
       "        Month    t  t_square\n",
       "0  2003-01-01   97      9409\n",
       "1  2003-01-02   98      9604\n",
       "2  2003-01-03   99      9801\n",
       "3  2003-01-04  100     10000\n",
       "4  2003-01-05  101     10201\n",
       "5  2003-01-06  102     10404\n",
       "6  2003-01-07  103     10609\n",
       "7  2003-01-08  104     10816\n",
       "8  2003-01-09  105     11025\n",
       "9  2003-01-10  106     11236\n",
       "10 2003-01-11  107     11449\n",
       "11 2003-01-12  108     11664\n",
       "12 2003-01-13  109     11881\n",
       "13 2003-01-14  110     12100\n",
       "14 2003-01-15  111     12321"
      ]
     },
     "execution_count": 29,
     "metadata": {},
     "output_type": "execute_result"
    }
   ],
   "source": [
    "air_new"
   ]
  },
  {
   "cell_type": "markdown",
   "metadata": {},
   "source": [
    "### Build the model on entire Dataset"
   ]
  },
  {
   "cell_type": "code",
   "execution_count": 30,
   "metadata": {
    "ExecuteTime": {
     "end_time": "2021-04-14T05:54:03.239125Z",
     "start_time": "2021-04-14T05:54:03.203148Z"
    }
   },
   "outputs": [
    {
     "data": {
      "text/plain": [
       "0     326.941886\n",
       "1     329.276598\n",
       "2     331.611311\n",
       "3     333.946023\n",
       "4     336.280736\n",
       "5     338.615448\n",
       "6     340.950161\n",
       "7     343.284873\n",
       "8     345.619585\n",
       "9     347.954298\n",
       "10    350.289010\n",
       "11    352.623723\n",
       "12    354.958435\n",
       "13    357.293147\n",
       "14    359.627860\n",
       "dtype: float64"
      ]
     },
     "execution_count": 30,
     "metadata": {},
     "output_type": "execute_result"
    }
   ],
   "source": [
    "model_full = smf.ols('Passengers~t',data=airline1).fit()\n",
    "pred_new  = pd.Series(model_full.predict(air_new))\n",
    "pred_new"
   ]
  },
  {
   "cell_type": "code",
   "execution_count": 31,
   "metadata": {
    "ExecuteTime": {
     "end_time": "2021-04-14T05:54:09.722059Z",
     "start_time": "2021-04-14T05:54:09.707071Z"
    }
   },
   "outputs": [],
   "source": [
    "air_new[\"forecasted_passengers\"]=pd.Series(pred_new)"
   ]
  },
  {
   "cell_type": "code",
   "execution_count": 32,
   "metadata": {
    "ExecuteTime": {
     "end_time": "2021-04-14T05:54:12.478020Z",
     "start_time": "2021-04-14T05:54:12.451037Z"
    }
   },
   "outputs": [
    {
     "data": {
      "text/html": [
       "<div>\n",
       "<style scoped>\n",
       "    .dataframe tbody tr th:only-of-type {\n",
       "        vertical-align: middle;\n",
       "    }\n",
       "\n",
       "    .dataframe tbody tr th {\n",
       "        vertical-align: top;\n",
       "    }\n",
       "\n",
       "    .dataframe thead th {\n",
       "        text-align: right;\n",
       "    }\n",
       "</style>\n",
       "<table border=\"1\" class=\"dataframe\">\n",
       "  <thead>\n",
       "    <tr style=\"text-align: right;\">\n",
       "      <th></th>\n",
       "      <th>Month</th>\n",
       "      <th>t</th>\n",
       "      <th>t_square</th>\n",
       "      <th>forecasted_passengers</th>\n",
       "    </tr>\n",
       "  </thead>\n",
       "  <tbody>\n",
       "    <tr>\n",
       "      <th>0</th>\n",
       "      <td>2003-01-01</td>\n",
       "      <td>97</td>\n",
       "      <td>9409</td>\n",
       "      <td>326.941886</td>\n",
       "    </tr>\n",
       "    <tr>\n",
       "      <th>1</th>\n",
       "      <td>2003-01-02</td>\n",
       "      <td>98</td>\n",
       "      <td>9604</td>\n",
       "      <td>329.276598</td>\n",
       "    </tr>\n",
       "    <tr>\n",
       "      <th>2</th>\n",
       "      <td>2003-01-03</td>\n",
       "      <td>99</td>\n",
       "      <td>9801</td>\n",
       "      <td>331.611311</td>\n",
       "    </tr>\n",
       "    <tr>\n",
       "      <th>3</th>\n",
       "      <td>2003-01-04</td>\n",
       "      <td>100</td>\n",
       "      <td>10000</td>\n",
       "      <td>333.946023</td>\n",
       "    </tr>\n",
       "    <tr>\n",
       "      <th>4</th>\n",
       "      <td>2003-01-05</td>\n",
       "      <td>101</td>\n",
       "      <td>10201</td>\n",
       "      <td>336.280736</td>\n",
       "    </tr>\n",
       "    <tr>\n",
       "      <th>5</th>\n",
       "      <td>2003-01-06</td>\n",
       "      <td>102</td>\n",
       "      <td>10404</td>\n",
       "      <td>338.615448</td>\n",
       "    </tr>\n",
       "    <tr>\n",
       "      <th>6</th>\n",
       "      <td>2003-01-07</td>\n",
       "      <td>103</td>\n",
       "      <td>10609</td>\n",
       "      <td>340.950161</td>\n",
       "    </tr>\n",
       "    <tr>\n",
       "      <th>7</th>\n",
       "      <td>2003-01-08</td>\n",
       "      <td>104</td>\n",
       "      <td>10816</td>\n",
       "      <td>343.284873</td>\n",
       "    </tr>\n",
       "    <tr>\n",
       "      <th>8</th>\n",
       "      <td>2003-01-09</td>\n",
       "      <td>105</td>\n",
       "      <td>11025</td>\n",
       "      <td>345.619585</td>\n",
       "    </tr>\n",
       "    <tr>\n",
       "      <th>9</th>\n",
       "      <td>2003-01-10</td>\n",
       "      <td>106</td>\n",
       "      <td>11236</td>\n",
       "      <td>347.954298</td>\n",
       "    </tr>\n",
       "    <tr>\n",
       "      <th>10</th>\n",
       "      <td>2003-01-11</td>\n",
       "      <td>107</td>\n",
       "      <td>11449</td>\n",
       "      <td>350.289010</td>\n",
       "    </tr>\n",
       "    <tr>\n",
       "      <th>11</th>\n",
       "      <td>2003-01-12</td>\n",
       "      <td>108</td>\n",
       "      <td>11664</td>\n",
       "      <td>352.623723</td>\n",
       "    </tr>\n",
       "    <tr>\n",
       "      <th>12</th>\n",
       "      <td>2003-01-13</td>\n",
       "      <td>109</td>\n",
       "      <td>11881</td>\n",
       "      <td>354.958435</td>\n",
       "    </tr>\n",
       "    <tr>\n",
       "      <th>13</th>\n",
       "      <td>2003-01-14</td>\n",
       "      <td>110</td>\n",
       "      <td>12100</td>\n",
       "      <td>357.293147</td>\n",
       "    </tr>\n",
       "    <tr>\n",
       "      <th>14</th>\n",
       "      <td>2003-01-15</td>\n",
       "      <td>111</td>\n",
       "      <td>12321</td>\n",
       "      <td>359.627860</td>\n",
       "    </tr>\n",
       "  </tbody>\n",
       "</table>\n",
       "</div>"
      ],
      "text/plain": [
       "        Month    t  t_square  forecasted_passengers\n",
       "0  2003-01-01   97      9409             326.941886\n",
       "1  2003-01-02   98      9604             329.276598\n",
       "2  2003-01-03   99      9801             331.611311\n",
       "3  2003-01-04  100     10000             333.946023\n",
       "4  2003-01-05  101     10201             336.280736\n",
       "5  2003-01-06  102     10404             338.615448\n",
       "6  2003-01-07  103     10609             340.950161\n",
       "7  2003-01-08  104     10816             343.284873\n",
       "8  2003-01-09  105     11025             345.619585\n",
       "9  2003-01-10  106     11236             347.954298\n",
       "10 2003-01-11  107     11449             350.289010\n",
       "11 2003-01-12  108     11664             352.623723\n",
       "12 2003-01-13  109     11881             354.958435\n",
       "13 2003-01-14  110     12100             357.293147\n",
       "14 2003-01-15  111     12321             359.627860"
      ]
     },
     "execution_count": 32,
     "metadata": {},
     "output_type": "execute_result"
    }
   ],
   "source": [
    "air_new"
   ]
  },
  {
   "cell_type": "code",
   "execution_count": null,
   "metadata": {},
   "outputs": [],
   "source": [
    "## From the above we can say rmse_multi_add_sea(9.469000) RMSE value is lower than any other model so multi add seasonality is best fitted model "
   ]
  },
  {
   "cell_type": "code",
   "execution_count": null,
   "metadata": {},
   "outputs": [],
   "source": []
  }
 ],
 "metadata": {
  "kernelspec": {
   "display_name": "Python 3",
   "language": "python",
   "name": "python3"
  },
  "language_info": {
   "codemirror_mode": {
    "name": "ipython",
    "version": 3
   },
   "file_extension": ".py",
   "mimetype": "text/x-python",
   "name": "python",
   "nbconvert_exporter": "python",
   "pygments_lexer": "ipython3",
   "version": "3.8.3"
  },
  "varInspector": {
   "cols": {
    "lenName": 16,
    "lenType": 16,
    "lenVar": 40
   },
   "kernels_config": {
    "python": {
     "delete_cmd_postfix": "",
     "delete_cmd_prefix": "del ",
     "library": "var_list.py",
     "varRefreshCmd": "print(var_dic_list())"
    },
    "r": {
     "delete_cmd_postfix": ") ",
     "delete_cmd_prefix": "rm(",
     "library": "var_list.r",
     "varRefreshCmd": "cat(var_dic_list()) "
    }
   },
   "types_to_exclude": [
    "module",
    "function",
    "builtin_function_or_method",
    "instance",
    "_Feature"
   ],
   "window_display": false
  }
 },
 "nbformat": 4,
 "nbformat_minor": 4
}
